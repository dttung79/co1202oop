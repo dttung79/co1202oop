{
 "cells": [
  {
   "cell_type": "code",
   "execution_count": 22,
   "metadata": {},
   "outputs": [],
   "source": [
    "# define a class Dog with attributes name, breed, age\n",
    "class Dog:\n",
    "    # constructor to initialize the attributes\n",
    "    def __init__(self, name, breed, age):\n",
    "        self.name = name    # assign parameter name to attribute name\n",
    "        self.breed = breed  # assign parameter breed to attribute breed\n",
    "        self.age = age      # assign parameter age to attribute age\n",
    "        print(f'An instance of dog created with name {self.name}')\n",
    "    # define a method\n",
    "    def woof(self):\n",
    "        print(f'{self.name} says woof!')\n",
    "    \n",
    "    def show(self):\n",
    "        print(f'Name: {self.name}, Breed: {self.breed}, Age: {self.age}')"
   ]
  },
  {
   "cell_type": "code",
   "execution_count": 23,
   "metadata": {},
   "outputs": [
    {
     "name": "stdout",
     "output_type": "stream",
     "text": [
      "An instance of dog created with name Fido\n",
      "Fido says woof!\n",
      "Name: Fido, Breed: Golden Retriever, Age: 3\n"
     ]
    }
   ],
   "source": [
    "d = Dog('Fido', 'Golden Retriever', 3)\n",
    "d.woof()\n",
    "d.show()"
   ]
  },
  {
   "cell_type": "code",
   "execution_count": 24,
   "metadata": {},
   "outputs": [
    {
     "name": "stdout",
     "output_type": "stream",
     "text": [
      "Name: , Breed: , Age: -100\n"
     ]
    }
   ],
   "source": [
    "d.name = ''\n",
    "d.breed = ''\n",
    "d.age = -100\n",
    "d.show()"
   ]
  },
  {
   "cell_type": "code",
   "execution_count": 25,
   "metadata": {},
   "outputs": [],
   "source": [
    "class Dog:\n",
    "    # constructor to initialize the attributes\n",
    "    def __init__(self, name, breed, age):\n",
    "        self.__name = name    # assign parameter name to attribute name\n",
    "        self.__breed = breed  # assign parameter breed to attribute breed\n",
    "        self.__age = age      # assign parameter age to attribute age\n",
    "        print(f'An instance of dog created with name {self.__name}')\n",
    "    # define a method\n",
    "    def woof(self):\n",
    "        print(f'{self.__name} says woof!')\n",
    "    \n",
    "    def show(self):\n",
    "        print(f'Name: {self.__name}, Breed: {self.__breed}, Age: {self.__age}')\n",
    "\n",
    "    def set_name(self, name):\n",
    "        if name != '':\n",
    "            self.__name = name\n",
    "        else:\n",
    "            print('Name cannot be empty')\n",
    "    \n",
    "    def get_name(self):\n",
    "        return self.__name"
   ]
  },
  {
   "cell_type": "code",
   "execution_count": 26,
   "metadata": {},
   "outputs": [
    {
     "name": "stdout",
     "output_type": "stream",
     "text": [
      "An instance of dog created with name Fido\n",
      "Fido says woof!\n",
      "Name: Fido, Breed: Golden Retriever, Age: 3\n"
     ]
    }
   ],
   "source": [
    "d = Dog('Fido', 'Golden Retriever', 3)\n",
    "d.woof()\n",
    "d.show()"
   ]
  },
  {
   "cell_type": "code",
   "execution_count": 27,
   "metadata": {},
   "outputs": [
    {
     "name": "stdout",
     "output_type": "stream",
     "text": [
      "Name cannot be empty\n",
      "Fido says woof!\n",
      "Name: Hachi, Breed: Golden Retriever, Age: 3\n"
     ]
    }
   ],
   "source": [
    "d.set_name('')\n",
    "d.woof()\n",
    "d.set_name('Hachi')\n",
    "d.__age = -100\n",
    "d.show()"
   ]
  },
  {
   "cell_type": "code",
   "execution_count": 28,
   "metadata": {},
   "outputs": [
    {
     "name": "stdout",
     "output_type": "stream",
     "text": [
      "Hachi\n"
     ]
    }
   ],
   "source": [
    "print(d.get_name())"
   ]
  },
  {
   "cell_type": "code",
   "execution_count": 3,
   "metadata": {},
   "outputs": [],
   "source": [
    "class Employee:\n",
    "    def __init__(self, id, name, salary):\n",
    "        self.__id = id\n",
    "        self.__name = name\n",
    "        self.__salary = salary\n",
    "    \n",
    "    def get_id(self):\n",
    "        return self.__id\n",
    "    \n",
    "    def get_name(self):\n",
    "        return self.__name\n",
    "    \n",
    "    def set_name(self, new_name):\n",
    "        if new_name != '':\n",
    "            self.__name = new_name\n",
    "        else:\n",
    "            print('Name cannot be empty')\n",
    "    \n",
    "    def get_salary(self):\n",
    "        return self.__salary\n",
    "    \n",
    "    def set_salary(self, new_salary):\n",
    "        if new_salary > 0:\n",
    "            self.__salary = new_salary\n",
    "        else:\n",
    "            print('Salary cannot be negative')\n",
    "        \n",
    "    def show(self):\n",
    "        print(f'ID: {self.__id}, Name: {self.__name}, Salary: ${self.__salary}')"
   ]
  },
  {
   "cell_type": "code",
   "execution_count": 4,
   "metadata": {},
   "outputs": [],
   "source": [
    "class Company:\n",
    "    def __init__(self, name):\n",
    "        self.__name = name\n",
    "        self.__employees = []\n",
    "    \n",
    "    def get_name(self):\n",
    "        return self.__name\n",
    "    \n",
    "    def set_name(self, new_name):\n",
    "        if new_name != '':\n",
    "            self.__name = new_name\n",
    "        else:\n",
    "            print('Name cannot be empty')\n",
    "    \n",
    "    def recruit(self, new_emp):\n",
    "        self.__employees.append(new_emp)\n",
    "        print(f'Employee {new_emp.get_name()} has been recruited')\n",
    "    \n",
    "    def layoff(self, emp_id):\n",
    "        for e in self.__employees:\n",
    "            if e.get_id() == emp_id:\n",
    "                self.__employees.remove(e)\n",
    "                print(f'Employee {e.get_name()} has been laid off')\n",
    "                return\n",
    "        print(f'Employee with ID {emp_id} not found')\n",
    "    \n",
    "    def show_all(self):\n",
    "        print(f'Company: {self.__name}')\n",
    "        print('All employees:')\n",
    "        for e in self.__employees:\n",
    "            e.show()"
   ]
  },
  {
   "cell_type": "code",
   "execution_count": null,
   "metadata": {},
   "outputs": [],
   "source": [
    "john = Employee(1, 'John', 50000)\n",
    "paul = Employee(2, 'Paul', 60000)\n",
    "mike = Employee(3, 'Mike', 30000)\n",
    "ringo = Employee(4, 'Ringo', 40000)\n",
    "\n",
    "apple = Company('Apple')\n",
    "apple.recruit(john)\n",
    "apple.recruit(paul)\n",
    "apple.recruit(mike)\n",
    "apple.recruit(ringo)\n",
    "\n",
    "apple.show_all()\n",
    "# layoff an employee\n",
    "apple.layoff(2) # Paul will be laid off\n",
    "# change the name of the company\n",
    "apple.set_name('Apple Inc.')\n",
    "# change the name of an employee\n",
    "john.set_name('John Lennon')\n",
    "# change the salary of an employee\n",
    "mike.set_salary(35000)\n",
    "# show all employees\n",
    "apple.show_all()"
   ]
  },
  {
   "cell_type": "code",
   "execution_count": 8,
   "metadata": {},
   "outputs": [
    {
     "name": "stdout",
     "output_type": "stream",
     "text": [
      "Name cannot be empty\n",
      "Salary cannot be negative\n",
      "Name cannot be empty\n"
     ]
    }
   ],
   "source": [
    "mike.set_name('')\n",
    "ringo.set_salary(-100)\n",
    "apple.set_name('')"
   ]
  }
 ],
 "metadata": {
  "kernelspec": {
   "display_name": "Python 3",
   "language": "python",
   "name": "python3"
  },
  "language_info": {
   "codemirror_mode": {
    "name": "ipython",
    "version": 3
   },
   "file_extension": ".py",
   "mimetype": "text/x-python",
   "name": "python",
   "nbconvert_exporter": "python",
   "pygments_lexer": "ipython3",
   "version": "3.9.12"
  }
 },
 "nbformat": 4,
 "nbformat_minor": 2
}

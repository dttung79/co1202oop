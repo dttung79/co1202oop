{
 "cells": [
  {
   "cell_type": "code",
   "execution_count": 16,
   "metadata": {},
   "outputs": [],
   "source": [
    "class LightBulb:\n",
    "    def __init__(self, name):\n",
    "        self.__name = name\n",
    "        self.__light = False\n",
    "    \n",
    "    @property\n",
    "    def name(self):\n",
    "        return self.__name\n",
    "    \n",
    "    @name.setter\n",
    "    def name(self, value):\n",
    "        self.__name = value\n",
    "    \n",
    "    @property\n",
    "    def light(self):\n",
    "        return self.__light\n",
    "    \n",
    "    def turn_on(self):\n",
    "        self.__light = True\n",
    "    \n",
    "    def turn_off(self):\n",
    "        self.__light = False\n",
    "    \n",
    "    def show(self):\n",
    "        print(f'{self.__name} is {\"on\" if self.__light else \"off\"}')"
   ]
  },
  {
   "cell_type": "code",
   "execution_count": 17,
   "metadata": {},
   "outputs": [],
   "source": [
    "class ColorLightBulb(LightBulb):\n",
    "    def __init__(self, name, color):\n",
    "        # self.__name = name\n",
    "        # self.__light = False\n",
    "        super().__init__(name) # call constructor of parent class\n",
    "        self.__color = color\n",
    "\n",
    "    @property\n",
    "    def color(self):\n",
    "        return self.__color\n",
    "    \n",
    "    @color.setter\n",
    "    def color(self, value):\n",
    "        self.__color = value\n",
    "    \n",
    "    def show(self):\n",
    "        super().show() # call method show() of parent class\n",
    "        print(f'Color: {self.__color}')\n"
   ]
  },
  {
   "cell_type": "code",
   "execution_count": 18,
   "metadata": {},
   "outputs": [
    {
     "name": "stdout",
     "output_type": "stream",
     "text": [
      "Bedroom Light is off\n",
      "Color: white\n",
      "Bedroom Light is on\n",
      "Color: blue\n"
     ]
    }
   ],
   "source": [
    "bedroom_light = ColorLightBulb('Bedroom Light', 'white')\n",
    "bedroom_light.show()\n",
    "bedroom_light.turn_on()\n",
    "bedroom_light.color = 'blue'\n",
    "bedroom_light.show()"
   ]
  },
  {
   "cell_type": "code",
   "execution_count": 19,
   "metadata": {},
   "outputs": [],
   "source": [
    "class MultiColorLightBulb(ColorLightBulb):\n",
    "    def __init__(self, name):\n",
    "        super().__init__(name, 'white')\n",
    "        self.__current = 0\n",
    "    \n",
    "    def turn_on(self):\n",
    "        colors = ['white', 'yellow', 'red']\n",
    "        self.__current = (self.__current + 1) % 3\n",
    "        self.color = colors[self.__current] # call setter from parent class to change color"
   ]
  },
  {
   "cell_type": "code",
   "execution_count": 20,
   "metadata": {},
   "outputs": [
    {
     "name": "stdout",
     "output_type": "stream",
     "text": [
      "Bedroom Light is off\n",
      "Color: yellow\n",
      "Bedroom Light is off\n",
      "Color: yellow\n",
      "Bedroom Light is off\n",
      "Color: red\n",
      "Bedroom Light is off\n",
      "Color: red\n",
      "Bedroom Light is off\n",
      "Color: white\n"
     ]
    }
   ],
   "source": [
    "bedroom_light = MultiColorLightBulb('Bedroom Light')\n",
    "bedroom_light.turn_on()\n",
    "bedroom_light.show()\n",
    "bedroom_light.turn_off()\n",
    "bedroom_light.show()\n",
    "bedroom_light.turn_on()\n",
    "bedroom_light.show()\n",
    "bedroom_light.turn_off()\n",
    "bedroom_light.show()\n",
    "bedroom_light.turn_on()\n",
    "bedroom_light.show()"
   ]
  },
  {
   "cell_type": "code",
   "execution_count": 27,
   "metadata": {},
   "outputs": [],
   "source": [
    "class Animal:\n",
    "    def __init__(self, name, age):\n",
    "        self.__name = name\n",
    "        self.__age = age\n",
    "    \n",
    "    @property\n",
    "    def name(self):\n",
    "        return self.__name\n",
    "\n",
    "    @name.setter\n",
    "    def name(self, value):\n",
    "        self.__name = value\n",
    "\n",
    "    def show(self):\n",
    "        print(f'{self.__name} is {self.__age} years old')\n",
    "\n",
    "class Pet(Animal):\n",
    "    def __init__(self, name, age, owner):\n",
    "        super().__init__(name, age)\n",
    "        self.__owner = owner\n",
    "    def show(self):\n",
    "        super().show()\n",
    "        print(f'Owner: {self.__owner}')\n",
    "\n",
    "class Dog(Pet):\n",
    "    def __init__(self, name, age, owner):\n",
    "        super().__init__(name, age, owner)\n",
    "    \n",
    "    def woof(self):\n",
    "        print(f'{self.name} says: Woof woof!')"
   ]
  },
  {
   "cell_type": "code",
   "execution_count": 28,
   "metadata": {},
   "outputs": [
    {
     "name": "stdout",
     "output_type": "stream",
     "text": [
      "Ki is 3 years old\n",
      "Owner: John\n",
      "Ki says: Woof woof!\n"
     ]
    }
   ],
   "source": [
    "ki = Dog('Ki', 3, 'John')\n",
    "ki.show()\n",
    "ki.woof()"
   ]
  }
 ],
 "metadata": {
  "kernelspec": {
   "display_name": "Python 3",
   "language": "python",
   "name": "python3"
  },
  "language_info": {
   "codemirror_mode": {
    "name": "ipython",
    "version": 3
   },
   "file_extension": ".py",
   "mimetype": "text/x-python",
   "name": "python",
   "nbconvert_exporter": "python",
   "pygments_lexer": "ipython3",
   "version": "3.9.12"
  }
 },
 "nbformat": 4,
 "nbformat_minor": 2
}

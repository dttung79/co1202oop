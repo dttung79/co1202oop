{
 "cells": [
  {
   "cell_type": "code",
   "execution_count": 10,
   "metadata": {},
   "outputs": [],
   "source": [
    "# define a class Dog with attributes name, breed, age\n",
    "class Dog:\n",
    "    # constructor to initialize the attributes\n",
    "    def __init__(self, name, breed, age):\n",
    "        self.name = name    # assign parameter name to attribute name\n",
    "        self.breed = breed  # assign parameter breed to attribute breed\n",
    "        self.age = age      # assign parameter age to attribute age\n",
    "        print(f'An instance of dog created with name {self.name}')\n",
    "    # define a method\n",
    "    def woof(self):\n",
    "        print(f'{self.name} says woof!')"
   ]
  },
  {
   "cell_type": "code",
   "execution_count": 12,
   "metadata": {},
   "outputs": [
    {
     "name": "stdout",
     "output_type": "stream",
     "text": [
      "An instance of dog created with name Tommy\n",
      "An instance of dog created with name Ki\n"
     ]
    }
   ],
   "source": [
    "# create an instance / object of the class Dog by calling the constructor\n",
    "tommy = Dog('Tommy', 'German Shepherd', 5)\n",
    "ki = Dog('Ki', 'Poodle', 3)"
   ]
  },
  {
   "cell_type": "code",
   "execution_count": 4,
   "metadata": {},
   "outputs": [
    {
     "name": "stdout",
     "output_type": "stream",
     "text": [
      "Name of the dog is Tommy\n",
      "Breed of the dog is German Shepherd\n",
      "Age of the dog is 5\n"
     ]
    }
   ],
   "source": [
    "# (Read) Access the attributes of the object\n",
    "print(f'Name of the dog is {tommy.name}')\n",
    "print(f'Breed of the dog is {tommy.breed}')\n",
    "print(f'Age of the dog is {tommy.age}')"
   ]
  },
  {
   "cell_type": "code",
   "execution_count": 13,
   "metadata": {},
   "outputs": [
    {
     "name": "stdout",
     "output_type": "stream",
     "text": [
      "Tommy says woof!\n"
     ]
    }
   ],
   "source": [
    "# Access the methods of the object\n",
    "tommy.woof()"
   ]
  },
  {
   "cell_type": "code",
   "execution_count": 14,
   "metadata": {},
   "outputs": [
    {
     "name": "stdout",
     "output_type": "stream",
     "text": [
      "Updated: Ki ki, Husky, 5\n"
     ]
    }
   ],
   "source": [
    "# (Write) access attributes to change\n",
    "ki.name = 'Ki ki'\n",
    "ki.breed = 'Husky'\n",
    "ki.age = 5\n",
    "print(f'Updated: {ki.name}, {ki.breed}, {ki.age}')"
   ]
  },
  {
   "cell_type": "code",
   "execution_count": 15,
   "metadata": {},
   "outputs": [],
   "source": [
    "class Car:\n",
    "    def __init__(self, brand, model, price):\n",
    "        self.brand = brand\n",
    "        self.model = model\n",
    "        self.price = price\n",
    "    \n",
    "    def show(self):\n",
    "        print(f'Car brand: {self.brand}, model: {self.model}, price: {self.price}')"
   ]
  },
  {
   "cell_type": "code",
   "execution_count": 16,
   "metadata": {},
   "outputs": [
    {
     "name": "stdout",
     "output_type": "stream",
     "text": [
      "Car brand: Kia, model: Morning, price: 10000\n"
     ]
    }
   ],
   "source": [
    "morning = Car('Kia', 'Morning', 10000)\n",
    "morning.show()"
   ]
  },
  {
   "cell_type": "code",
   "execution_count": 17,
   "metadata": {},
   "outputs": [
    {
     "name": "stdout",
     "output_type": "stream",
     "text": [
      "Car brand: Kia, model: Morning 2, price: 15000\n"
     ]
    }
   ],
   "source": [
    "morning.model = 'Morning 2'\n",
    "morning.price = 15000\n",
    "morning.show()"
   ]
  }
 ],
 "metadata": {
  "kernelspec": {
   "display_name": "Python 3",
   "language": "python",
   "name": "python3"
  },
  "language_info": {
   "codemirror_mode": {
    "name": "ipython",
    "version": 3
   },
   "file_extension": ".py",
   "mimetype": "text/x-python",
   "name": "python",
   "nbconvert_exporter": "python",
   "pygments_lexer": "ipython3",
   "version": "3.9.12"
  }
 },
 "nbformat": 4,
 "nbformat_minor": 2
}
